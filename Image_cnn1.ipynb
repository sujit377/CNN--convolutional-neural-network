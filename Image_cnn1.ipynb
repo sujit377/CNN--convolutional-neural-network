{
  "nbformat": 4,
  "nbformat_minor": 0,
  "metadata": {
    "colab": {
      "name": "Image_cnn1.ipynb",
      "provenance": [],
      "collapsed_sections": []
    },
    "kernelspec": {
      "name": "python3",
      "display_name": "Python 3"
    }
  },
  "cells": [
    {
      "cell_type": "code",
      "metadata": {
        "id": "wwzbupIHaATt",
        "colab_type": "code",
        "outputId": "53f3bec5-a841-4f46-e01c-97e6de225c1f",
        "colab": {
          "base_uri": "https://localhost:8080/",
          "height": 34
        }
      },
      "source": [
        "from keras.datasets import mnist\n",
        "from keras.models import Sequential\n",
        "from keras.layers import Dense, Dropout, Conv2D, MaxPool2D, Flatten\n",
        "from keras.utils import np_utils"
      ],
      "execution_count": 4,
      "outputs": [
        {
          "output_type": "stream",
          "text": [
            "Using TensorFlow backend.\n"
          ],
          "name": "stderr"
        }
      ]
    },
    {
      "cell_type": "code",
      "metadata": {
        "id": "31EL2NN3aOMg",
        "colab_type": "code",
        "outputId": "65dfed64-4619-473e-d20f-a6cfe2acfe31",
        "colab": {
          "base_uri": "https://localhost:8080/",
          "height": 52
        }
      },
      "source": [
        "(X_T,y_T),(X_t,y_t) = mnist.load_data()"
      ],
      "execution_count": 5,
      "outputs": [
        {
          "output_type": "stream",
          "text": [
            "Downloading data from https://s3.amazonaws.com/img-datasets/mnist.npz\n",
            "11493376/11490434 [==============================] - 1s 0us/step\n"
          ],
          "name": "stdout"
        }
      ]
    },
    {
      "cell_type": "code",
      "metadata": {
        "id": "vG3uWnc-aqS3",
        "colab_type": "code",
        "outputId": "4ca79a32-6a83-45c5-deab-282df6c68c91",
        "colab": {
          "base_uri": "https://localhost:8080/",
          "height": 34
        }
      },
      "source": [
        "print(\"X_t\",X_T.shape)"
      ],
      "execution_count": 6,
      "outputs": [
        {
          "output_type": "stream",
          "text": [
            "X_t (60000, 28, 28)\n"
          ],
          "name": "stdout"
        }
      ]
    },
    {
      "cell_type": "code",
      "metadata": {
        "id": "lu65eHVEa5-n",
        "colab_type": "code",
        "colab": {
          "base_uri": "https://localhost:8080/",
          "height": 80
        },
        "outputId": "e6f2e188-3aa7-485c-c292-8c6de3c5d2cd"
      },
      "source": [
        "import matplotlib.pyplot as plt\n",
        "f = plt.figure()\n",
        "for i in range(10):\n",
        "  f.add_subplot(1,10,i+1)\n",
        "  plt.imshow(X_T[i])"
      ],
      "execution_count": 7,
      "outputs": [
        {
          "output_type": "display_data",
          "data": {
            "image/png": "[encoded data removed]",
            "text/plain": [
              "<Figure size 432x288 with 10 Axes>"
            ]
          },
          "metadata": {
            "tags": [],
            "needs_background": "light"
          }
        }
      ]
    },
    {
      "cell_type": "code",
      "metadata": {
        "id": "_aPdCrjkhNHq",
        "colab_type": "code",
        "colab": {}
      },
      "source": [
        "X_T = X_T.reshape(X_T.shape[0],28,28,1)\n",
        "X_t = X_t.reshape(X_t.shape[0],28,28,1)\n",
        "X_T = X_T.astype('float32')\n",
        "X_t = X_t.astype('float32')\n",
        "X_T /=255\n",
        "X_t /=255"
      ],
      "execution_count": 0,
      "outputs": []
    },
    {
      "cell_type": "code",
      "metadata": {
        "id": "S8kfdxQ5nFxH",
        "colab_type": "code",
        "colab": {}
      },
      "source": [
        "n_class  = 10\n",
        "y_T = np_utils.to_categorical(y_T,n_class)\n",
        "y_t = np_utils.to_categorical(y_t,n_class)"
      ],
      "execution_count": 0,
      "outputs": []
    },
    {
      "cell_type": "code",
      "metadata": {
        "id": "czZXgydcnbTD",
        "colab_type": "code",
        "colab": {
          "base_uri": "https://localhost:8080/",
          "height": 34
        },
        "outputId": "8a2496dc-6257-4c1f-aea9-68c9dc1c03bf"
      },
      "source": [
        "y_T.shape"
      ],
      "execution_count": 10,
      "outputs": [
        {
          "output_type": "execute_result",
          "data": {
            "text/plain": [
              "(60000, 10)"
            ]
          },
          "metadata": {
            "tags": []
          },
          "execution_count": 10
        }
      ]
    },
    {
      "cell_type": "code",
      "metadata": {
        "id": "v1j5YchDnjoL",
        "colab_type": "code",
        "colab": {}
      },
      "source": [
        "model = Sequential()\n",
        "model.add(Conv2D(32, (3,3), strides=(1,1), padding='valid', activation='relu', input_shape=(28,28,1)))\n",
        "model.add(MaxPool2D(pool_size=(1,1))) \n",
        "model.add(Flatten())\n",
        "model.add(Dense(100,activation='relu'))\n",
        "model.add(Dense(10,activation='softmax'))"
      ],
      "execution_count": 0,
      "outputs": []
    },
    {
      "cell_type": "code",
      "metadata": {
        "id": "wQPWEXNVoHvm",
        "colab_type": "code",
        "colab": {}
      },
      "source": [
        "model.compile(loss = 'categorical_crossentropy',  optimizer = 'adam')"
      ],
      "execution_count": 0,
      "outputs": []
    },
    {
      "cell_type": "code",
      "metadata": {
        "id": "_0vjuz09vRuj",
        "colab_type": "code",
        "colab": {
          "base_uri": "https://localhost:8080/",
          "height": 399
        },
        "outputId": "d58d4402-735a-4876-989a-b6115856a8f6"
      },
      "source": [
        "model.fit(X_T,y_T,batch_size = 128, epochs =  10,validation_data = (X_t,y_t))"
      ],
      "execution_count": 19,
      "outputs": [
        {
          "output_type": "stream",
          "text": [
            "Train on 60000 samples, validate on 10000 samples\n",
            "Epoch 1/10\n",
            "60000/60000 [==============================] - 57s 942us/step - loss: 0.1845 - val_loss: 0.0777\n",
            "Epoch 2/10\n",
            "60000/60000 [==============================] - 55s 909us/step - loss: 0.0579 - val_loss: 0.0596\n",
            "Epoch 3/10\n",
            "60000/60000 [==============================] - 55s 914us/step - loss: 0.0330 - val_loss: 0.0490\n",
            "Epoch 4/10\n",
            "60000/60000 [==============================] - 55s 912us/step - loss: 0.0205 - val_loss: 0.0520\n",
            "Epoch 5/10\n",
            "60000/60000 [==============================] - 54s 907us/step - loss: 0.0144 - val_loss: 0.0466\n",
            "Epoch 6/10\n",
            "60000/60000 [==============================] - 55s 915us/step - loss: 0.0090 - val_loss: 0.0510\n",
            "Epoch 7/10\n",
            "60000/60000 [==============================] - 55s 914us/step - loss: 0.0064 - val_loss: 0.0628\n",
            "Epoch 8/10\n",
            "60000/60000 [==============================] - 55s 915us/step - loss: 0.0060 - val_loss: 0.0562\n",
            "Epoch 9/10\n",
            "60000/60000 [==============================] - 54s 907us/step - loss: 0.0066 - val_loss: 0.0553\n",
            "Epoch 10/10\n",
            "60000/60000 [==============================] - 55s 913us/step - loss: 0.0043 - val_loss: 0.0600\n"
          ],
          "name": "stdout"
        },
        {
          "output_type": "execute_result",
          "data": {
            "text/plain": [
              "<keras.callbacks.callbacks.History at 0x7f01e80a45c0>"
            ]
          },
          "metadata": {
            "tags": []
          },
          "execution_count": 19
        }
      ]
    },
    {
      "cell_type": "code",
      "metadata": {
        "id": "snUdFCkcvaz3",
        "colab_type": "code",
        "colab": {
          "base_uri": "https://localhost:8080/",
          "height": 34
        },
        "outputId": "93356f8d-10f3-4b3d-eec7-9c88caad4010"
      },
      "source": [
        "model.predict_classes(X_t[0:10])"
      ],
      "execution_count": 30,
      "outputs": [
        {
          "output_type": "execute_result",
          "data": {
            "text/plain": [
              "array([7, 2, 1, 0, 4, 1, 4, 9, 5, 9])"
            ]
          },
          "metadata": {
            "tags": []
          },
          "execution_count": 30
        }
      ]
    },
    {
      "cell_type": "code",
      "metadata": {
        "id": "SpOISTc3zL_I",
        "colab_type": "code",
        "colab": {
          "base_uri": "https://localhost:8080/",
          "height": 156
        },
        "outputId": "67ce6893-efc7-439d-809c-8bd36be044c2"
      },
      "source": [
        "y_t[0:8]"
      ],
      "execution_count": 29,
      "outputs": [
        {
          "output_type": "execute_result",
          "data": {
            "text/plain": [
              "array([[0., 0., 0., 0., 0., 0., 0., 1., 0., 0.],\n",
              "       [0., 0., 1., 0., 0., 0., 0., 0., 0., 0.],\n",
              "       [0., 1., 0., 0., 0., 0., 0., 0., 0., 0.],\n",
              "       [1., 0., 0., 0., 0., 0., 0., 0., 0., 0.],\n",
              "       [0., 0., 0., 0., 1., 0., 0., 0., 0., 0.],\n",
              "       [0., 1., 0., 0., 0., 0., 0., 0., 0., 0.],\n",
              "       [0., 0., 0., 0., 1., 0., 0., 0., 0., 0.],\n",
              "       [0., 0., 0., 0., 0., 0., 0., 0., 0., 1.]], dtype=float32)"
            ]
          },
          "metadata": {
            "tags": []
          },
          "execution_count": 29
        }
      ]
    },
    {
      "cell_type": "code",
      "metadata": {
        "id": "M_4V6gDVzUIM",
        "colab_type": "code",
        "colab": {
          "base_uri": "https://localhost:8080/",
          "height": 80
        },
        "outputId": "978d55c0-6dc7-47aa-c906-17b232a488e9"
      },
      "source": [
        "x1 = X_t[0:10]\n",
        "x1 = x1.reshape(10,28,28)\n",
        "f = plt.figure()\n",
        "for i in range(10):\n",
        "  f.add_subplot(1,10,i+1)\n",
        "  plt.imshow(x1[i])"
      ],
      "execution_count": 34,
      "outputs": [
        {
          "output_type": "display_data",
          "data": {
            "image/png": "[encoded data removed]",
            "text/plain": [
              "<Figure size 432x288 with 10 Axes>"
            ]
          },
          "metadata": {
            "tags": [],
            "needs_background": "light"
          }
        }
      ]
    },
    {
      "cell_type": "code",
      "metadata": {
        "id": "g2CsjfspzqSh",
        "colab_type": "code",
        "colab": {}
      },
      "source": [
        ""
      ],
      "execution_count": 0,
      "outputs": []
    },
    {
      "cell_type": "code",
      "metadata": {
        "id": "cFDTJ4tOzxgq",
        "colab_type": "code",
        "colab": {}
      },
      "source": [
        ""
      ],
      "execution_count": 0,
      "outputs": []
    }
  ]
}